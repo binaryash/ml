{
  "nbformat": 4,
  "nbformat_minor": 0,
  "metadata": {
    "colab": {
      "provenance": []
    },
    "kernelspec": {
      "name": "python3",
      "display_name": "Python 3"
    },
    "language_info": {
      "name": "python"
    }
  },
  "cells": [
    {
      "cell_type": "markdown",
      "source": [
        "# Time Series Forecasting with LSTM\n",
        "\n",
        "In this notebook, we explore the application of **Long Short-Term Memory (LSTM)** networks for forecasting time series data. Specifically, we will use historical **airline passenger counts** to predict future passenger traffic. LSTM is a powerful variant of Recurrent Neural Networks (RNNs) that is capable of learning and remembering long-term dependencies in sequential data, making it highly effective for time series forecasting tasks.\n",
        "\n",
        "### Problem Overview\n",
        "The **Airline Passengers dataset** provides monthly counts of international airline passengers from 1949 to 1960. Predicting future passenger counts based on historical trends is crucial for airline operations, resource planning, and demand forecasting. In this notebook, we will build an LSTM model to forecast future passenger traffic and evaluate its performance using several metrics.\n",
        "\n",
        "### Objectives\n",
        "1. **Preprocessing**: Load and preprocess the dataset, including handling any missing values, scaling features, and preparing the data for input into the LSTM model.\n",
        "2. **Train-Test Split**: Split the data into training and testing sets for model evaluation.\n",
        "3. **Model Building**: Construct and train an LSTM model, and fine-tune hyperparameters.\n",
        "4. **Evaluation**: Assess the model's performance using metrics such as **Mean Absolute Error (MAE)**, **Root Mean Squared Error (RMSE)**, and **R-squared (R²)**.\n",
        "5. **Conclusion**: Discuss the model’s predictive power and potential improvements for better accuracy and generalization.\n"
      ],
      "metadata": {
        "id": "BEZ5e7CWqnJA"
      }
    },
    {
      "cell_type": "markdown",
      "source": [
        "## Downloading Dataset"
      ],
      "metadata": {
        "id": "g_vLe2iHd0To"
      }
    },
    {
      "cell_type": "code",
      "source": [
        "!wget https://raw.githubusercontent.com/amankharwal/Website-data/master/airline-passengers.csv"
      ],
      "metadata": {
        "colab": {
          "base_uri": "https://localhost:8080/"
        },
        "id": "8v0IJsgKpZPm",
        "outputId": "64bb85e9-cc0b-455f-cfcd-0476a3448e92"
      },
      "execution_count": null,
      "outputs": [
        {
          "output_type": "stream",
          "name": "stdout",
          "text": [
            "--2025-01-02 20:37:17--  https://raw.githubusercontent.com/amankharwal/Website-data/master/airline-passengers.csv\n",
            "Resolving raw.githubusercontent.com (raw.githubusercontent.com)... 185.199.108.133, 185.199.109.133, 185.199.110.133, ...\n",
            "Connecting to raw.githubusercontent.com (raw.githubusercontent.com)|185.199.108.133|:443... connected.\n",
            "HTTP request sent, awaiting response... 200 OK\n",
            "Length: 2180 (2.1K) [text/plain]\n",
            "Saving to: ‘airline-passengers.csv.1’\n",
            "\n",
            "\rairline-passengers.   0%[                    ]       0  --.-KB/s               \rairline-passengers. 100%[===================>]   2.13K  --.-KB/s    in 0s      \n",
            "\n",
            "2025-01-02 20:37:17 (30.9 MB/s) - ‘airline-passengers.csv.1’ saved [2180/2180]\n",
            "\n"
          ]
        }
      ]
    },
    {
      "cell_type": "markdown",
      "source": [
        "## Import necessary libraries"
      ],
      "metadata": {
        "id": "MYjXQoaBm5zO"
      }
    },
    {
      "cell_type": "code",
      "source": [
        "import numpy\n",
        "import matplotlib.pyplot as plt\n",
        "import pandas\n",
        "import math\n",
        "from keras.models import Sequential\n",
        "from keras.layers import Dense\n",
        "from keras.layers import LSTM\n",
        "from sklearn.preprocessing import MinMaxScaler\n",
        "from sklearn.metrics import mean_squared_error\n",
        "# fix random seed for reproducibility\n",
        "numpy.random.seed(7)"
      ],
      "metadata": {
        "id": "9Q838cttpJsJ"
      },
      "execution_count": null,
      "outputs": []
    },
    {
      "cell_type": "markdown",
      "source": [
        "## Load Dataset"
      ],
      "metadata": {
        "id": "v4UKGvfPnQBI"
      }
    },
    {
      "cell_type": "code",
      "source": [
        "# load the dataset\n",
        "dataframe = pandas.read_csv('airline-passengers.csv', usecols=[1], engine='python')\n",
        "dataset = dataframe.values\n",
        "dataset = dataset.astype('float32')\n",
        "# normalize the dataset\n",
        "scaler = MinMaxScaler(feature_range=(0, 1))\n",
        "dataset = scaler.fit_transform(dataset)"
      ],
      "metadata": {
        "id": "v4eNsS3-pcon"
      },
      "execution_count": null,
      "outputs": []
    },
    {
      "cell_type": "markdown",
      "source": [
        "### Splitting Data"
      ],
      "metadata": {
        "id": "5ICFBF-GnVBx"
      }
    },
    {
      "cell_type": "code",
      "source": [
        "# split into train and test sets\n",
        "train_size = int(len(dataset) * 0.67)\n",
        "test_size = len(dataset) - train_size\n",
        "train, test = dataset[0:train_size,:], dataset[train_size:len(dataset),:]\n",
        "print(len(train), len(test))"
      ],
      "metadata": {
        "colab": {
          "base_uri": "https://localhost:8080/"
        },
        "id": "LbX-i8W9pf6v",
        "outputId": "29aeb87d-5100-4185-f1db-7d203960dcfc"
      },
      "execution_count": null,
      "outputs": [
        {
          "output_type": "stream",
          "name": "stdout",
          "text": [
            "96 48\n"
          ]
        }
      ]
    },
    {
      "cell_type": "markdown",
      "source": [
        "## Time Series with LSTM\n"
      ],
      "metadata": {
        "id": "CIyzXf-npiLa"
      }
    },
    {
      "cell_type": "code",
      "source": [
        "# convert an array of values into a dataset matrix\n",
        "def create_dataset(dataset, look_back=1):\n",
        "\tdataX, dataY = [], []\n",
        "\tfor i in range(len(dataset)-look_back-1):\n",
        "\t\ta = dataset[i:(i+look_back), 0]\n",
        "\t\tdataX.append(a)\n",
        "\t\tdataY.append(dataset[i + look_back, 0])\n",
        "\treturn numpy.array(dataX), numpy.array(dataY)"
      ],
      "metadata": {
        "id": "iaLLMAR1pjmC"
      },
      "execution_count": null,
      "outputs": []
    },
    {
      "cell_type": "code",
      "source": [
        "# reshape into X=t and Y=t+1\n",
        "look_back = 1\n",
        "trainX, trainY = create_dataset(train, look_back)\n",
        "testX, testY = create_dataset(test, look_back)\n",
        "# reshape input to be [samples, time steps, features]\n",
        "trainX = numpy.reshape(trainX, (trainX.shape[0], 1, trainX.shape[1]))\n",
        "testX = numpy.reshape(testX, (testX.shape[0], 1, testX.shape[1]))"
      ],
      "metadata": {
        "id": "7Scsg1OUplAK"
      },
      "execution_count": null,
      "outputs": []
    },
    {
      "cell_type": "code",
      "source": [
        "# create and fit the LSTM network\n",
        "model = Sequential()\n",
        "model.add(LSTM(4, input_shape=(1, look_back)))\n",
        "model.add(Dense(1))\n",
        "model.compile(loss='mean_squared_error', optimizer='adam')\n",
        "model.fit(trainX, trainY, epochs=100, batch_size=1, verbose=2)"
      ],
      "metadata": {
        "colab": {
          "base_uri": "https://localhost:8080/"
        },
        "id": "dXwzeEEppn_T",
        "outputId": "21bd21f4-eac1-42f4-cf4c-1fbb9977dcce"
      },
      "execution_count": null,
      "outputs": [
        {
          "output_type": "stream",
          "name": "stdout",
          "text": [
            "Epoch 1/100\n"
          ]
        },
        {
          "output_type": "stream",
          "name": "stderr",
          "text": [
            "/usr/local/lib/python3.10/dist-packages/keras/src/layers/rnn/rnn.py:204: UserWarning: Do not pass an `input_shape`/`input_dim` argument to a layer. When using Sequential models, prefer using an `Input(shape)` object as the first layer in the model instead.\n",
            "  super().__init__(**kwargs)\n"
          ]
        },
        {
          "output_type": "stream",
          "name": "stdout",
          "text": [
            "94/94 - 2s - 16ms/step - loss: 0.0526\n",
            "Epoch 2/100\n",
            "94/94 - 0s - 2ms/step - loss: 0.0260\n",
            "Epoch 3/100\n",
            "94/94 - 0s - 4ms/step - loss: 0.0186\n",
            "Epoch 4/100\n",
            "94/94 - 0s - 3ms/step - loss: 0.0167\n",
            "Epoch 5/100\n",
            "94/94 - 0s - 3ms/step - loss: 0.0154\n",
            "Epoch 6/100\n",
            "94/94 - 0s - 2ms/step - loss: 0.0143\n",
            "Epoch 7/100\n",
            "94/94 - 0s - 2ms/step - loss: 0.0132\n",
            "Epoch 8/100\n",
            "94/94 - 0s - 3ms/step - loss: 0.0121\n",
            "Epoch 9/100\n",
            "94/94 - 0s - 3ms/step - loss: 0.0110\n",
            "Epoch 10/100\n",
            "94/94 - 0s - 3ms/step - loss: 0.0098\n",
            "Epoch 11/100\n",
            "94/94 - 0s - 3ms/step - loss: 0.0086\n",
            "Epoch 12/100\n",
            "94/94 - 0s - 4ms/step - loss: 0.0073\n",
            "Epoch 13/100\n",
            "94/94 - 0s - 3ms/step - loss: 0.0060\n",
            "Epoch 14/100\n",
            "94/94 - 0s - 2ms/step - loss: 0.0049\n",
            "Epoch 15/100\n",
            "94/94 - 0s - 3ms/step - loss: 0.0038\n",
            "Epoch 16/100\n",
            "94/94 - 0s - 3ms/step - loss: 0.0031\n",
            "Epoch 17/100\n",
            "94/94 - 0s - 3ms/step - loss: 0.0026\n",
            "Epoch 18/100\n",
            "94/94 - 0s - 3ms/step - loss: 0.0023\n",
            "Epoch 19/100\n",
            "94/94 - 0s - 2ms/step - loss: 0.0022\n",
            "Epoch 20/100\n",
            "94/94 - 0s - 3ms/step - loss: 0.0021\n",
            "Epoch 21/100\n",
            "94/94 - 0s - 3ms/step - loss: 0.0021\n",
            "Epoch 22/100\n",
            "94/94 - 0s - 4ms/step - loss: 0.0021\n",
            "Epoch 23/100\n",
            "94/94 - 0s - 5ms/step - loss: 0.0020\n",
            "Epoch 24/100\n",
            "94/94 - 0s - 4ms/step - loss: 0.0021\n",
            "Epoch 25/100\n",
            "94/94 - 0s - 3ms/step - loss: 0.0021\n",
            "Epoch 26/100\n",
            "94/94 - 0s - 2ms/step - loss: 0.0021\n",
            "Epoch 27/100\n",
            "94/94 - 0s - 3ms/step - loss: 0.0020\n",
            "Epoch 28/100\n",
            "94/94 - 0s - 5ms/step - loss: 0.0020\n",
            "Epoch 29/100\n",
            "94/94 - 0s - 3ms/step - loss: 0.0021\n",
            "Epoch 30/100\n",
            "94/94 - 0s - 3ms/step - loss: 0.0020\n",
            "Epoch 31/100\n",
            "94/94 - 0s - 3ms/step - loss: 0.0021\n",
            "Epoch 32/100\n",
            "94/94 - 0s - 3ms/step - loss: 0.0020\n",
            "Epoch 33/100\n",
            "94/94 - 0s - 3ms/step - loss: 0.0020\n",
            "Epoch 34/100\n",
            "94/94 - 0s - 2ms/step - loss: 0.0021\n",
            "Epoch 35/100\n",
            "94/94 - 0s - 2ms/step - loss: 0.0020\n",
            "Epoch 36/100\n",
            "94/94 - 0s - 3ms/step - loss: 0.0020\n",
            "Epoch 37/100\n",
            "94/94 - 0s - 3ms/step - loss: 0.0020\n",
            "Epoch 38/100\n",
            "94/94 - 0s - 2ms/step - loss: 0.0021\n",
            "Epoch 39/100\n",
            "94/94 - 0s - 3ms/step - loss: 0.0020\n",
            "Epoch 40/100\n",
            "94/94 - 0s - 3ms/step - loss: 0.0021\n",
            "Epoch 41/100\n",
            "94/94 - 0s - 2ms/step - loss: 0.0021\n",
            "Epoch 42/100\n",
            "94/94 - 0s - 3ms/step - loss: 0.0021\n",
            "Epoch 43/100\n",
            "94/94 - 0s - 3ms/step - loss: 0.0020\n",
            "Epoch 44/100\n",
            "94/94 - 0s - 3ms/step - loss: 0.0020\n",
            "Epoch 45/100\n",
            "94/94 - 0s - 3ms/step - loss: 0.0021\n",
            "Epoch 46/100\n",
            "94/94 - 0s - 2ms/step - loss: 0.0021\n",
            "Epoch 47/100\n",
            "94/94 - 0s - 3ms/step - loss: 0.0020\n",
            "Epoch 48/100\n",
            "94/94 - 0s - 2ms/step - loss: 0.0021\n",
            "Epoch 49/100\n",
            "94/94 - 0s - 4ms/step - loss: 0.0020\n",
            "Epoch 50/100\n",
            "94/94 - 0s - 3ms/step - loss: 0.0020\n",
            "Epoch 51/100\n",
            "94/94 - 0s - 3ms/step - loss: 0.0022\n",
            "Epoch 52/100\n",
            "94/94 - 0s - 3ms/step - loss: 0.0020\n",
            "Epoch 53/100\n",
            "94/94 - 0s - 3ms/step - loss: 0.0021\n",
            "Epoch 54/100\n",
            "94/94 - 0s - 3ms/step - loss: 0.0021\n",
            "Epoch 55/100\n",
            "94/94 - 0s - 4ms/step - loss: 0.0020\n",
            "Epoch 56/100\n",
            "94/94 - 0s - 3ms/step - loss: 0.0021\n",
            "Epoch 57/100\n",
            "94/94 - 0s - 3ms/step - loss: 0.0021\n",
            "Epoch 58/100\n",
            "94/94 - 0s - 4ms/step - loss: 0.0020\n",
            "Epoch 59/100\n",
            "94/94 - 0s - 3ms/step - loss: 0.0020\n",
            "Epoch 60/100\n",
            "94/94 - 0s - 3ms/step - loss: 0.0021\n",
            "Epoch 61/100\n",
            "94/94 - 0s - 2ms/step - loss: 0.0020\n",
            "Epoch 62/100\n",
            "94/94 - 0s - 3ms/step - loss: 0.0021\n",
            "Epoch 63/100\n",
            "94/94 - 0s - 3ms/step - loss: 0.0021\n",
            "Epoch 64/100\n",
            "94/94 - 0s - 2ms/step - loss: 0.0020\n",
            "Epoch 65/100\n",
            "94/94 - 0s - 3ms/step - loss: 0.0021\n",
            "Epoch 66/100\n",
            "94/94 - 0s - 3ms/step - loss: 0.0020\n",
            "Epoch 67/100\n",
            "94/94 - 0s - 2ms/step - loss: 0.0020\n",
            "Epoch 68/100\n",
            "94/94 - 0s - 3ms/step - loss: 0.0021\n",
            "Epoch 69/100\n",
            "94/94 - 0s - 4ms/step - loss: 0.0020\n",
            "Epoch 70/100\n",
            "94/94 - 1s - 6ms/step - loss: 0.0021\n",
            "Epoch 71/100\n",
            "94/94 - 1s - 6ms/step - loss: 0.0021\n",
            "Epoch 72/100\n",
            "94/94 - 1s - 8ms/step - loss: 0.0021\n",
            "Epoch 73/100\n",
            "94/94 - 1s - 6ms/step - loss: 0.0020\n",
            "Epoch 74/100\n",
            "94/94 - 1s - 5ms/step - loss: 0.0021\n",
            "Epoch 75/100\n",
            "94/94 - 0s - 2ms/step - loss: 0.0020\n",
            "Epoch 76/100\n",
            "94/94 - 0s - 2ms/step - loss: 0.0020\n",
            "Epoch 77/100\n",
            "94/94 - 0s - 2ms/step - loss: 0.0020\n",
            "Epoch 78/100\n",
            "94/94 - 0s - 2ms/step - loss: 0.0020\n",
            "Epoch 79/100\n",
            "94/94 - 0s - 2ms/step - loss: 0.0021\n",
            "Epoch 80/100\n",
            "94/94 - 0s - 3ms/step - loss: 0.0019\n",
            "Epoch 81/100\n",
            "94/94 - 0s - 3ms/step - loss: 0.0020\n",
            "Epoch 82/100\n",
            "94/94 - 0s - 3ms/step - loss: 0.0020\n",
            "Epoch 83/100\n",
            "94/94 - 0s - 2ms/step - loss: 0.0021\n",
            "Epoch 84/100\n",
            "94/94 - 0s - 2ms/step - loss: 0.0021\n",
            "Epoch 85/100\n",
            "94/94 - 0s - 2ms/step - loss: 0.0020\n",
            "Epoch 86/100\n",
            "94/94 - 0s - 3ms/step - loss: 0.0020\n",
            "Epoch 87/100\n",
            "94/94 - 0s - 3ms/step - loss: 0.0020\n",
            "Epoch 88/100\n",
            "94/94 - 0s - 2ms/step - loss: 0.0020\n",
            "Epoch 89/100\n",
            "94/94 - 0s - 3ms/step - loss: 0.0020\n",
            "Epoch 90/100\n",
            "94/94 - 0s - 2ms/step - loss: 0.0020\n",
            "Epoch 91/100\n",
            "94/94 - 0s - 3ms/step - loss: 0.0019\n",
            "Epoch 92/100\n",
            "94/94 - 0s - 3ms/step - loss: 0.0020\n",
            "Epoch 93/100\n",
            "94/94 - 0s - 2ms/step - loss: 0.0020\n",
            "Epoch 94/100\n",
            "94/94 - 0s - 2ms/step - loss: 0.0020\n",
            "Epoch 95/100\n",
            "94/94 - 0s - 2ms/step - loss: 0.0020\n",
            "Epoch 96/100\n",
            "94/94 - 0s - 4ms/step - loss: 0.0020\n",
            "Epoch 97/100\n",
            "94/94 - 0s - 3ms/step - loss: 0.0020\n",
            "Epoch 98/100\n",
            "94/94 - 0s - 3ms/step - loss: 0.0021\n",
            "Epoch 99/100\n",
            "94/94 - 0s - 3ms/step - loss: 0.0020\n",
            "Epoch 100/100\n",
            "94/94 - 0s - 3ms/step - loss: 0.0020\n"
          ]
        },
        {
          "output_type": "execute_result",
          "data": {
            "text/plain": [
              "<keras.src.callbacks.history.History at 0x7bf3e72e1690>"
            ]
          },
          "metadata": {},
          "execution_count": 72
        }
      ]
    },
    {
      "cell_type": "markdown",
      "source": [
        "## Make Prediction"
      ],
      "metadata": {
        "id": "bdUUoq5vnZbn"
      }
    },
    {
      "cell_type": "code",
      "source": [
        "# make predictions\n",
        "trainPredict = model.predict(trainX)\n",
        "testPredict = model.predict(testX)\n",
        "# invert predictions\n",
        "trainPredict = scaler.inverse_transform(trainPredict)\n",
        "trainY = scaler.inverse_transform([trainY])\n",
        "testPredict = scaler.inverse_transform(testPredict)\n",
        "testY = scaler.inverse_transform([testY])\n",
        "# calculate root mean squared error\n",
        "trainScore = math.sqrt(mean_squared_error(trainY[0], trainPredict[:,0]))\n",
        "testScore = math.sqrt(mean_squared_error(testY[0], testPredict[:,0]))\n",
        "\n",
        "# shift train predictions for plotting\n",
        "trainPredictPlot = numpy.empty_like(dataset)\n",
        "trainPredictPlot[:, :] = numpy.nan\n",
        "trainPredictPlot[look_back:len(trainPredict)+look_back, :] = trainPredict\n",
        "# shift test predictions for plotting\n",
        "testPredictPlot = numpy.empty_like(dataset)\n",
        "testPredictPlot[:, :] = numpy.nan\n",
        "testPredictPlot[len(trainPredict)+(look_back*2)+1:len(dataset)-1, :] = testPredict\n",
        "# plot baseline and predictions\n",
        "plt.plot(scaler.inverse_transform(dataset))\n",
        "plt.plot(trainPredictPlot)\n",
        "plt.plot(testPredictPlot)\n",
        "plt.show()"
      ],
      "metadata": {
        "colab": {
          "base_uri": "https://localhost:8080/",
          "height": 465
        },
        "id": "3gyum94Xpo-V",
        "outputId": "d9ec8110-8cae-48b3-c8b4-d4c4b980a23b"
      },
      "execution_count": null,
      "outputs": [
        {
          "output_type": "stream",
          "name": "stdout",
          "text": [
            "\u001b[1m3/3\u001b[0m \u001b[32m━━━━━━━━━━━━━━━━━━━━\u001b[0m\u001b[37m\u001b[0m \u001b[1m1s\u001b[0m 137ms/step\n",
            "\u001b[1m2/2\u001b[0m \u001b[32m━━━━━━━━━━━━━━━━━━━━\u001b[0m\u001b[37m\u001b[0m \u001b[1m0s\u001b[0m 8ms/step \n"
          ]
        },
        {
          "output_type": "display_data",
          "data": {
            "text/plain": [
              "<Figure size 640x480 with 1 Axes>"
            ],
            "image/png": "[encoded data removed]"
          },
          "metadata": {}
        }
      ]
    }
  ]
}